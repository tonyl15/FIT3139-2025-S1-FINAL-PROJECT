{
 "cells": [
  {
   "cell_type": "code",
   "execution_count": null,
   "id": "e8f61acf",
   "metadata": {},
   "outputs": [],
   "source": [
    "from random import randint\n",
    "\n",
    "class Contestant:\n",
    "    def __init__(self, talent_idx):\n",
    "        self.talent = talent_idx\n",
    "        self.no_of_votes = 0\n",
    "\n",
    "    def simulate_voting(self, no_of_voters = 10000):\n",
    "        self.restart_votes()\n",
    "        \n",
    "        for _ in range(no_of_voters):\n",
    "            if randint() < self.talent:\n",
    "                self.no_of_votes += 1\n",
    "\n",
    "    def restart_votes(self):\n",
    "        self.no_of_votes = 0\n",
    "\n",
    "        \n"
   ]
  },
  {
   "cell_type": "code",
   "execution_count": null,
   "id": "d26f4f7b",
   "metadata": {},
   "outputs": [],
   "source": [
    "\"\"\"Set up season\"\"\"\n",
    "\n",
    "# Create contestants with different talent levels\n",
    "def create_contestants(no_of_contestants=30):\n",
    "    contestants = []\n",
    "    for i in range(no_of_contestants):\n",
    "        talent_idx = randint()\n",
    "        contestants.append(Contestant(talent_idx))\n",
    "    return contestants\n",
    "\n",
    "def simulate_season(contestants=30, no_of_voters=10000, episodes=10, elimination_episodes=[3, 6, 10], safe_zone=[16, 10, 5]):\n",
    "    for episode in range(episodes):\n",
    "        print(f\"Episode {episode + 1}\")\n",
    "        \n",
    "        # Simulate voting for each contestant\n",
    "        for contestant in contestants:\n",
    "            contestant.simulate_voting(no_of_voters)\n",
    "            print(f\"Contestant {contestant.talent} received {contestant.no_of_votes} votes\")\n",
    "        \n",
    "        # Eliminate contestants if it's an elimination episode\n",
    "        if episode + 1 in elimination_episodes:\n",
    "            contestants.sort(key=lambda x: x.no_of_votes, reverse=True)\n",
    "            \n",
    "            # Eliminate all contestants who are not on or above the safe zone\n",
    "    \n",
    "    print(\"Season simulation complete.\")\n"
   ]
  }
 ],
 "metadata": {
  "kernelspec": {
   "display_name": "Python 3",
   "language": "python",
   "name": "python3"
  },
  "language_info": {
   "codemirror_mode": {
    "name": "ipython",
    "version": 3
   },
   "file_extension": ".py",
   "mimetype": "text/x-python",
   "name": "python",
   "nbconvert_exporter": "python",
   "pygments_lexer": "ipython3",
   "version": "3.13.3"
  }
 },
 "nbformat": 4,
 "nbformat_minor": 5
}
